{
 "cells": [
  {
   "cell_type": "code",
   "execution_count": 1,
   "id": "1c5748bc",
   "metadata": {},
   "outputs": [],
   "source": [
    "from bs4 import BeautifulSoup"
   ]
  },
  {
   "cell_type": "code",
   "execution_count": 2,
   "id": "104aea6c",
   "metadata": {},
   "outputs": [],
   "source": [
    "html = '''\n",
    "<html>\n",
    "    <head>\n",
    "    </head>\n",
    "    <body>\n",
    "        <h1> 우리동네시장</h1>\n",
    "            <div class = 'sale'>\n",
    "                <p id='fruits1' class='fruits'>\n",
    "                    <span class = 'name'> 바나나 </span>\n",
    "                    <span class = 'price'> 3000원 </span>\n",
    "                    <span class = 'inventory'> 500개 </span>\n",
    "                    <span class = 'store'> 가나다상회 </span>\n",
    "                    <a href = 'http://bit.ly/forPlaywithData' > 홈페이지 </a>\n",
    "                </p>\n",
    "            </div>\n",
    "            <div class = 'prepare'>\n",
    "                <p id='fruits2' class='fruits'>\n",
    "                    <span class ='name'> 파인애플 </span>\n",
    "                </p>\n",
    "            </div>\n",
    "    </body>\n",
    "</html>\n",
    "'''"
   ]
  },
  {
   "cell_type": "code",
   "execution_count": 3,
   "id": "96d441f9",
   "metadata": {},
   "outputs": [],
   "source": [
    "soup = BeautifulSoup(html, 'html.parser')"
   ]
  },
  {
   "cell_type": "markdown",
   "id": "ad7d58de",
   "metadata": {},
   "source": [
    "### 디버깅\n",
    "* tag : 그냥사용\n",
    "* class : .\n",
    "* id : #\n",
    "\n",
    "'클래스 명'+'태그 명'은 html상에서 고유값을 갖는가? 아닌경우도 있다\n",
    "크롤링 시, 유니크하게하는 방법? 원하는것보다 상위의 데이터를 가져온다\n",
    "id는 거의 사용 x"
   ]
  },
  {
   "cell_type": "markdown",
   "id": "8c96974e",
   "metadata": {},
   "source": [
    "### Tag (' ')"
   ]
  },
  {
   "cell_type": "code",
   "execution_count": 5,
   "id": "63899542",
   "metadata": {},
   "outputs": [],
   "source": [
    "span = soup.select('span')"
   ]
  },
  {
   "cell_type": "code",
   "execution_count": 6,
   "id": "4406610e",
   "metadata": {},
   "outputs": [
    {
     "data": {
      "text/plain": [
       "bs4.element.ResultSet"
      ]
     },
     "execution_count": 6,
     "metadata": {},
     "output_type": "execute_result"
    }
   ],
   "source": [
    "type(span)"
   ]
  },
  {
   "cell_type": "code",
   "execution_count": 7,
   "id": "77cea8e9",
   "metadata": {},
   "outputs": [
    {
     "data": {
      "text/plain": [
       "<span class=\"name\"> 바나나 </span>"
      ]
     },
     "execution_count": 7,
     "metadata": {},
     "output_type": "execute_result"
    }
   ],
   "source": [
    "span[0]"
   ]
  },
  {
   "cell_type": "code",
   "execution_count": 9,
   "id": "8f52b989",
   "metadata": {},
   "outputs": [
    {
     "data": {
      "text/plain": [
       "<span class=\"name\"> 파인애플 </span>"
      ]
     },
     "execution_count": 9,
     "metadata": {},
     "output_type": "execute_result"
    }
   ],
   "source": [
    "span[-1]"
   ]
  },
  {
   "cell_type": "code",
   "execution_count": 10,
   "id": "fc2c21fe",
   "metadata": {},
   "outputs": [],
   "source": [
    "fruits = soup.select('fruits1')"
   ]
  },
  {
   "cell_type": "code",
   "execution_count": 11,
   "id": "359affbd",
   "metadata": {},
   "outputs": [
    {
     "data": {
      "text/plain": [
       "(bs4.element.ResultSet, [])"
      ]
     },
     "execution_count": 11,
     "metadata": {},
     "output_type": "execute_result"
    }
   ],
   "source": [
    "type(fruits), fruits  # 검색되었다고 다 값x,특정구조화 내에서만 움직임"
   ]
  },
  {
   "cell_type": "markdown",
   "id": "1af39f04",
   "metadata": {},
   "source": [
    "### ID (#)"
   ]
  },
  {
   "cell_type": "code",
   "execution_count": 12,
   "id": "44cf665f",
   "metadata": {},
   "outputs": [],
   "source": [
    "fruits = soup.select('#fruits1')"
   ]
  },
  {
   "cell_type": "code",
   "execution_count": 13,
   "id": "e16b7120",
   "metadata": {},
   "outputs": [
    {
     "data": {
      "text/plain": [
       "(bs4.element.ResultSet,\n",
       " [<p class=\"fruits\" id=\"fruits1\">\n",
       "  <span class=\"name\"> 바나나 </span>\n",
       "  <span class=\"price\"> 3000원 </span>\n",
       "  <span class=\"inventory\"> 500개 </span>\n",
       "  <span class=\"store\"> 가나다상회 </span>\n",
       "  <a href=\"http://bit.ly/forPlaywithData\"> 홈페이지 </a>\n",
       "  </p>])"
      ]
     },
     "execution_count": 13,
     "metadata": {},
     "output_type": "execute_result"
    }
   ],
   "source": [
    "type(fruits), fruits"
   ]
  },
  {
   "cell_type": "code",
   "execution_count": 14,
   "id": "c38464ed",
   "metadata": {},
   "outputs": [
    {
     "data": {
      "text/plain": [
       "1"
      ]
     },
     "execution_count": 14,
     "metadata": {},
     "output_type": "execute_result"
    }
   ],
   "source": [
    "len(fruits)"
   ]
  },
  {
   "cell_type": "markdown",
   "id": "4e0417bd",
   "metadata": {},
   "source": [
    "### class (.)"
   ]
  },
  {
   "cell_type": "code",
   "execution_count": 15,
   "id": "089d203d",
   "metadata": {},
   "outputs": [],
   "source": [
    "inventory = soup.select('.inventory')"
   ]
  },
  {
   "cell_type": "code",
   "execution_count": 16,
   "id": "e8f1e26f",
   "metadata": {},
   "outputs": [
    {
     "data": {
      "text/plain": [
       "(bs4.element.ResultSet, [<span class=\"inventory\"> 500개 </span>])"
      ]
     },
     "execution_count": 16,
     "metadata": {},
     "output_type": "execute_result"
    }
   ],
   "source": [
    "type(inventory), inventory"
   ]
  },
  {
   "cell_type": "code",
   "execution_count": 17,
   "id": "1e1cfc50",
   "metadata": {},
   "outputs": [
    {
     "data": {
      "text/plain": [
       "1"
      ]
     },
     "execution_count": 17,
     "metadata": {},
     "output_type": "execute_result"
    }
   ],
   "source": [
    "len(inventory)"
   ]
  },
  {
   "cell_type": "code",
   "execution_count": 18,
   "id": "425757a5",
   "metadata": {},
   "outputs": [],
   "source": [
    "price = soup.select('span.price')"
   ]
  },
  {
   "cell_type": "code",
   "execution_count": 19,
   "id": "2e1b94bc",
   "metadata": {},
   "outputs": [
    {
     "data": {
      "text/plain": [
       "(bs4.element.ResultSet, [<span class=\"price\"> 3000원 </span>])"
      ]
     },
     "execution_count": 19,
     "metadata": {},
     "output_type": "execute_result"
    }
   ],
   "source": [
    "type(price), price"
   ]
  },
  {
   "cell_type": "code",
   "execution_count": 20,
   "id": "d3df5f15",
   "metadata": {},
   "outputs": [
    {
     "data": {
      "text/plain": [
       "1"
      ]
     },
     "execution_count": 20,
     "metadata": {},
     "output_type": "execute_result"
    }
   ],
   "source": [
    "len(price)"
   ]
  },
  {
   "cell_type": "markdown",
   "id": "9c2a3f6d",
   "metadata": {},
   "source": [
    "### 하위 데이터만 뽑아내고 싶을 때 ( > )"
   ]
  },
  {
   "cell_type": "code",
   "execution_count": 21,
   "id": "944e8960",
   "metadata": {},
   "outputs": [],
   "source": [
    "fruit1_name = soup.select('p#fruits1 > span.name')"
   ]
  },
  {
   "cell_type": "code",
   "execution_count": 22,
   "id": "4ec0c43d",
   "metadata": {},
   "outputs": [
    {
     "data": {
      "text/plain": [
       "(bs4.element.ResultSet, [<span class=\"name\"> 바나나 </span>])"
      ]
     },
     "execution_count": 22,
     "metadata": {},
     "output_type": "execute_result"
    }
   ],
   "source": [
    "type(fruit1_name), fruit1_name"
   ]
  },
  {
   "cell_type": "code",
   "execution_count": 23,
   "id": "2fd8ca55",
   "metadata": {},
   "outputs": [
    {
     "data": {
      "text/plain": [
       "1"
      ]
     },
     "execution_count": 23,
     "metadata": {},
     "output_type": "execute_result"
    }
   ],
   "source": [
    "len(fruit1_name)"
   ]
  },
  {
   "cell_type": "code",
   "execution_count": 24,
   "id": "743afcd6",
   "metadata": {},
   "outputs": [],
   "source": [
    "name = soup.select('.name')"
   ]
  },
  {
   "cell_type": "code",
   "execution_count": 25,
   "id": "24fb288b",
   "metadata": {},
   "outputs": [
    {
     "data": {
      "text/plain": [
       "(bs4.element.ResultSet,\n",
       " [<span class=\"name\"> 바나나 </span>, <span class=\"name\"> 파인애플 </span>])"
      ]
     },
     "execution_count": 25,
     "metadata": {},
     "output_type": "execute_result"
    }
   ],
   "source": [
    "type(name), name"
   ]
  },
  {
   "cell_type": "code",
   "execution_count": 27,
   "id": "3cca0045",
   "metadata": {},
   "outputs": [
    {
     "name": "stdout",
     "output_type": "stream",
     "text": [
      "<span class=\"name\"> 바나나 </span>\n",
      "<span class=\"name\"> 파인애플 </span>\n"
     ]
    }
   ],
   "source": [
    "#len(name)\n",
    "for tag in name:\n",
    "    print(tag)"
   ]
  },
  {
   "cell_type": "code",
   "execution_count": 28,
   "id": "0eaeade7",
   "metadata": {},
   "outputs": [
    {
     "data": {
      "text/plain": [
       "<span class=\"name\"> 바나나 </span>"
      ]
     },
     "execution_count": 28,
     "metadata": {},
     "output_type": "execute_result"
    }
   ],
   "source": [
    "name[0]"
   ]
  },
  {
   "cell_type": "code",
   "execution_count": 32,
   "id": "3cafa65d",
   "metadata": {},
   "outputs": [],
   "source": [
    "s = name[0].text"
   ]
  },
  {
   "cell_type": "code",
   "execution_count": 33,
   "id": "222fad1b",
   "metadata": {},
   "outputs": [
    {
     "data": {
      "text/plain": [
       "'바나나'"
      ]
     },
     "execution_count": 33,
     "metadata": {},
     "output_type": "execute_result"
    }
   ],
   "source": [
    "s.strip()  #  공백 없애기 1"
   ]
  },
  {
   "cell_type": "code",
   "execution_count": 34,
   "id": "27dcc46b",
   "metadata": {},
   "outputs": [
    {
     "data": {
      "text/plain": [
       "'바나나'"
      ]
     },
     "execution_count": 34,
     "metadata": {},
     "output_type": "execute_result"
    }
   ],
   "source": [
    "name[0].text.strip()  #  공백 없애기 2"
   ]
  },
  {
   "cell_type": "code",
   "execution_count": 35,
   "id": "35959b5e",
   "metadata": {},
   "outputs": [
    {
     "name": "stdout",
     "output_type": "stream",
     "text": [
      "바나나\n",
      "파인애플\n"
     ]
    }
   ],
   "source": [
    "for tag in name:\n",
    "    print(tag.text.strip())"
   ]
  },
  {
   "cell_type": "markdown",
   "id": "0ecfa6c3",
   "metadata": {},
   "source": [
    "### class 이름 뽑기"
   ]
  },
  {
   "cell_type": "code",
   "execution_count": 36,
   "id": "fc5c003f",
   "metadata": {},
   "outputs": [
    {
     "data": {
      "text/plain": [
       "['name']"
      ]
     },
     "execution_count": 36,
     "metadata": {},
     "output_type": "execute_result"
    }
   ],
   "source": [
    "name[0]['class']"
   ]
  },
  {
   "cell_type": "code",
   "execution_count": 38,
   "id": "5906221f",
   "metadata": {},
   "outputs": [
    {
     "data": {
      "text/plain": [
       "list"
      ]
     },
     "execution_count": 38,
     "metadata": {},
     "output_type": "execute_result"
    }
   ],
   "source": [
    "type(name[0]['class'])"
   ]
  },
  {
   "cell_type": "code",
   "execution_count": 39,
   "id": "41e19179",
   "metadata": {},
   "outputs": [],
   "source": [
    "cls = name[0]['class']"
   ]
  },
  {
   "cell_type": "code",
   "execution_count": 40,
   "id": "4b13238d",
   "metadata": {},
   "outputs": [
    {
     "data": {
      "text/plain": [
       "'name'"
      ]
     },
     "execution_count": 40,
     "metadata": {},
     "output_type": "execute_result"
    }
   ],
   "source": [
    "cls[0]"
   ]
  },
  {
   "cell_type": "code",
   "execution_count": 41,
   "id": "48549164",
   "metadata": {},
   "outputs": [
    {
     "data": {
      "text/plain": [
       "'name'"
      ]
     },
     "execution_count": 41,
     "metadata": {},
     "output_type": "execute_result"
    }
   ],
   "source": [
    "name[0]['class'][0]"
   ]
  },
  {
   "cell_type": "code",
   "execution_count": 42,
   "id": "9a833fcb",
   "metadata": {},
   "outputs": [
    {
     "name": "stdout",
     "output_type": "stream",
     "text": [
      "바나나 name\n",
      "파인애플 name\n"
     ]
    }
   ],
   "source": [
    "for tag in name:\n",
    "    print(tag.text.strip(),\n",
    "         tag['class'][0])"
   ]
  },
  {
   "cell_type": "code",
   "execution_count": null,
   "id": "83a50fc3",
   "metadata": {},
   "outputs": [],
   "source": []
  }
 ],
 "metadata": {
  "kernelspec": {
   "display_name": "Python 3",
   "language": "python",
   "name": "python3"
  },
  "language_info": {
   "codemirror_mode": {
    "name": "ipython",
    "version": 3
   },
   "file_extension": ".py",
   "mimetype": "text/x-python",
   "name": "python",
   "nbconvert_exporter": "python",
   "pygments_lexer": "ipython3",
   "version": "3.6.4"
  }
 },
 "nbformat": 4,
 "nbformat_minor": 5
}
