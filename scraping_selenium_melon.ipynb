{
 "cells": [
  {
   "cell_type": "code",
   "execution_count": 1,
   "id": "79270fab",
   "metadata": {},
   "outputs": [],
   "source": [
    "from selenium import webdriver"
   ]
  },
  {
   "cell_type": "code",
   "execution_count": 3,
   "id": "bcffb90e",
   "metadata": {},
   "outputs": [
    {
     "name": "stdout",
     "output_type": "stream",
     "text": [
      " C 드라이브의 볼륨: Windows10\n",
      " 볼륨 일련 번호: 74D4-92A9\n",
      "\n",
      " C:\\Develops\\learn_webscraping 디렉터리\n",
      "\n",
      "2021-06-25  오전 09:47        11,107,328 chromedriver.exe\n",
      "               1개 파일          11,107,328 바이트\n",
      "               0개 디렉터리  186,035,105,792 바이트 남음\n"
     ]
    }
   ],
   "source": [
    "!dir .\\chromedriver.exe"
   ]
  },
  {
   "cell_type": "code",
   "execution_count": 7,
   "id": "24f4496c",
   "metadata": {},
   "outputs": [],
   "source": [
    "browser = webdriver.Chrome('./chromedriver.exe')"
   ]
  },
  {
   "cell_type": "code",
   "execution_count": 8,
   "id": "cca962a1",
   "metadata": {},
   "outputs": [],
   "source": [
    "browser.get('http://www.melon.com/chart/index.htm')"
   ]
  },
  {
   "cell_type": "code",
   "execution_count": 11,
   "id": "060e9510",
   "metadata": {},
   "outputs": [],
   "source": [
    "html = browser.page_source"
   ]
  },
  {
   "cell_type": "code",
   "execution_count": 12,
   "id": "ed7bb68b",
   "metadata": {},
   "outputs": [],
   "source": [
    "from bs4 import BeautifulSoup"
   ]
  },
  {
   "cell_type": "code",
   "execution_count": 14,
   "id": "a2e86e93",
   "metadata": {},
   "outputs": [],
   "source": [
    "soup = BeautifulSoup(html, 'html.parser')"
   ]
  },
  {
   "cell_type": "code",
   "execution_count": 27,
   "id": "5107fb7c",
   "metadata": {},
   "outputs": [],
   "source": [
    "tags = soup.select('div.ellipsis.rank01 > span > a')"
   ]
  },
  {
   "cell_type": "code",
   "execution_count": 28,
   "id": "ee028688",
   "metadata": {},
   "outputs": [
    {
     "data": {
      "text/plain": [
       "(100, bs4.element.ResultSet)"
      ]
     },
     "execution_count": 28,
     "metadata": {},
     "output_type": "execute_result"
    }
   ],
   "source": [
    "len(tags), type(tags)"
   ]
  },
  {
   "cell_type": "code",
   "execution_count": 29,
   "id": "8466fe3c",
   "metadata": {},
   "outputs": [
    {
     "data": {
      "text/plain": [
       "<a href=\"javascript:melon.play.playSong('19030101',33487342);\" title=\"Next Level 재생\">Next Level</a>"
      ]
     },
     "execution_count": 29,
     "metadata": {},
     "output_type": "execute_result"
    }
   ],
   "source": [
    "tag = tags[0]\n",
    "tag"
   ]
  },
  {
   "cell_type": "code",
   "execution_count": 30,
   "id": "1fac026e",
   "metadata": {},
   "outputs": [
    {
     "data": {
      "text/plain": [
       "'Next Level'"
      ]
     },
     "execution_count": 30,
     "metadata": {},
     "output_type": "execute_result"
    }
   ],
   "source": [
    "tag.text.strip()"
   ]
  },
  {
   "cell_type": "code",
   "execution_count": 31,
   "id": "0d4434ad",
   "metadata": {},
   "outputs": [
    {
     "data": {
      "text/plain": [
       "'Next Level 재생'"
      ]
     },
     "execution_count": 31,
     "metadata": {},
     "output_type": "execute_result"
    }
   ],
   "source": [
    "tag['title']"
   ]
  },
  {
   "cell_type": "code",
   "execution_count": 32,
   "id": "d8d800b7",
   "metadata": {},
   "outputs": [
    {
     "name": "stdout",
     "output_type": "stream",
     "text": [
      "Next Level Next Level 재생\n",
      "Butter Butter 재생\n",
      "헤픈 우연 헤픈 우연 재생\n",
      "치맛바람 (Chi Mat Ba Ram) 치맛바람 (Chi Mat Ba Ram) 재생\n",
      "Dun Dun Dance Dun Dun Dance 재생\n",
      "Peaches (Feat. Daniel Caesar & Giveon) Peaches (Feat. Daniel Caesar & Giveon) 재생\n",
      "롤린 (Rollin') 롤린 (Rollin') 재생\n",
      "Alcohol-Free Alcohol-Free 재생\n",
      "라일락 라일락 재생\n",
      "ASAP ASAP 재생\n",
      "운전만해 (We Ride) 운전만해 (We Ride) 재생\n",
      "Dynamite Dynamite 재생\n",
      "Celebrity Celebrity 재생\n",
      "안녕 (Hello) 안녕 (Hello) 재생\n",
      "비와 당신 비와 당신 재생\n",
      "상상더하기 상상더하기 재생\n",
      "상상더하기 상상더하기 재생\n",
      "사이렌 Remix (Feat. UNEDUCATED KID, Paul Blanco) 사이렌 Remix (Feat. UNEDUCATED KID, Paul Blanco) 재생\n",
      "Timeless Timeless 재생\n",
      "내 손을 잡아 내 손을 잡아 재생\n",
      "멜로디 멜로디 재생\n",
      "밝게 빛나는 별이 되어 비춰줄게 밝게 빛나는 별이 되어 비춰줄게 재생\n",
      "신호등 신호등 재생\n",
      "마.피.아. In the morning 마.피.아. In the morning 재생\n",
      "라라라 라라라 재생\n",
      "LOVE DAY (2021) (바른연애 길잡이 X 양요섭, 정은지) LOVE DAY (2021) (바른연애 길잡이 X 양요섭, 정은지) 재생\n",
      "밤하늘의 별을(2020) 밤하늘의 별을(2020) 재생\n",
      "Savage Love (Laxed - Siren Beat) (BTS Remix) Savage Love (Laxed - Siren Beat) (BTS Remix) 재생\n",
      "Lovesick Girls Lovesick Girls 재생\n",
      "Coin Coin 재생\n",
      "Dolphin Dolphin 재생\n",
      "잠이 오질 않네요 잠이 오질 않네요 재생\n",
      "내사람 내사람 재생\n",
      "에잇(Prod.&Feat. SUGA of BTS) 에잇(Prod.&Feat. SUGA of BTS) 재생\n",
      "아로하 아로하 재생\n",
      "작은 것들을 위한 시 (Boy With Luv) (Feat. Halsey) 작은 것들을 위한 시 (Boy With Luv) (Feat. Halsey) 재생\n",
      "취기를 빌려 (취향저격 그녀 X 산들) 취기를 빌려 (취향저격 그녀 X 산들) 재생\n",
      "Blueming Blueming 재생\n",
      "On The Ground On The Ground 재생\n",
      "어떻게 이별까지 사랑하겠어, 널 사랑하는 거지 어떻게 이별까지 사랑하겠어, 널 사랑하는 거지 재생\n",
      "추억은 만남보다 이별에 남아 추억은 만남보다 이별에 남아 재생\n",
      "어푸 (Ah puh) 어푸 (Ah puh) 재생\n",
      "VVS (Feat. JUSTHIS) (Prod. GroovyRoom) VVS (Feat. JUSTHIS) (Prod. GroovyRoom) 재생\n",
      "Off My Face Off My Face 재생\n",
      "Life Goes On Life Goes On 재생\n",
      "나랑 같이 걸을래 (바른연애 길잡이 X 적재) 나랑 같이 걸을래 (바른연애 길잡이 X 적재) 재생\n",
      "그날에 나는 맘이 편했을까 그날에 나는 맘이 편했을까 재생\n",
      "봄날 봄날 재생\n",
      "12:45 (Stripped) 12:45 (Stripped) 재생\n",
      "2002 2002 재생\n",
      "흔들리는 꽃들 속에서 네 샴푸향이 느껴진거야 흔들리는 꽃들 속에서 네 샴푸향이 느껴진거야 재생\n",
      "METEOR METEOR 재생\n",
      "모든 날, 모든 순간 (Every day, Every Moment) 모든 날, 모든 순간 (Every day, Every Moment) 재생\n",
      "그냥 안아달란 말야 그냥 안아달란 말야 재생\n",
      "오래된 노래 오래된 노래 재생\n",
      "너의 번호를 누르고 (Prod. 영화처럼) 너의 번호를 누르고 (Prod. 영화처럼) 재생\n",
      "살짝 설렜어 (Nonstop) 살짝 설렜어 (Nonstop) 재생\n",
      "어떻게 지내 (Prod. By VAN.C) 어떻게 지내 (Prod. By VAN.C) 재생\n",
      "Memories Memories 재생\n",
      "이 밤을 빌려 말해요 (바른연애 길잡이 X 10CM) 이 밤을 빌려 말해요 (바른연애 길잡이 X 10CM) 재생\n",
      "오늘도 빛나는 너에게 (To You My Light) (Feat.이라온) 오늘도 빛나는 너에게 (To You My Light) (Feat.이라온) 재생\n",
      "사실 나는 (Feat.전건호) 사실 나는 (Feat.전건호) 재생\n",
      "늦은 밤 너의 집 앞 골목길에서 늦은 밤 너의 집 앞 골목길에서 재생\n",
      "How You Like That How You Like That 재생\n",
      "추적이는 여름 비가 되어 추적이는 여름 비가 되어 재생\n",
      "힘든 건 사랑이 아니다 힘든 건 사랑이 아니다 재생\n",
      "오늘따라 더 미운 그대가 오늘따라 더 미운 그대가 재생\n",
      "체념 체념 재생\n",
      "이렇게 좋아해 본 적이 없어요 이렇게 좋아해 본 적이 없어요 재생\n",
      "살다가 살다가 재생\n",
      "Dance Monkey Dance Monkey 재생\n",
      "하루만 더 하루만 더 재생\n",
      "허리춤 허리춤 재생\n",
      "다정히 내 이름을 부르면 다정히 내 이름을 부르면 재생\n",
      "너의 발걸음에 빛을 비춰줄게 (Prod. 조영수) 너의 발걸음에 빛을 비춰줄게 (Prod. 조영수) 재생\n",
      "이제 나만 믿어요 이제 나만 믿어요 재생\n",
      "마음을 드려요 마음을 드려요 재생\n",
      "Love poem Love poem 재생\n",
      "Paris In The Rain Paris In The Rain 재생\n",
      "너를 만나 너를 만나 재생\n",
      "내 마음이 움찔했던 순간 (취향저격 그녀 X 규현) 내 마음이 움찔했던 순간 (취향저격 그녀 X 규현) 재생\n",
      "아이와 나의 바다 아이와 나의 바다 재생\n",
      "When We Disco (Duet with 선미) When We Disco (Duet with 선미) 재생\n",
      "우린 어쩌다 헤어진 걸까 우린 어쩌다 헤어진 걸까 재생\n",
      "우리 왜 헤어져야 해 우리 왜 헤어져야 해 재생\n",
      "시작 시작 재생\n",
      "Don't Start Now Don't Start Now 재생\n",
      "고백 (바른연애 길잡이 X 허각) 고백 (바른연애 길잡이 X 허각) 재생\n",
      "Downtown Baby Downtown Baby 재생\n",
      "Maniac Maniac 재생\n",
      "If You Love Me (Feat. 주헌 (몬스타엑스)) If You Love Me (Feat. 주헌 (몬스타엑스)) 재생\n",
      "Ready to love Ready to love 재생\n",
      "함께 했는데 이별은 나 혼자인 거야 함께 했는데 이별은 나 혼자인 거야 재생\n",
      "안녕 안녕 재생\n",
      "기다릴게 기다릴게 재생\n",
      "봄 안녕 봄 봄 안녕 봄 재생\n",
      "거짓말이라도 해서 널 보고싶어 거짓말이라도 해서 널 보고싶어 재생\n",
      "내일이 오면 (Feat. 기리보이, BIG Naughty (서동현)) 내일이 오면 (Feat. 기리보이, BIG Naughty (서동현)) 재생\n",
      "맛 (Hot Sauce) 맛 (Hot Sauce) 재생\n",
      "서울의 잠 못 이루는 밤 (Feat. 이수현) 서울의 잠 못 이루는 밤 (Feat. 이수현) 재생\n"
     ]
    }
   ],
   "source": [
    "for tag in tags:\n",
    "    print(tag.text.strip(), tag['title'])"
   ]
  },
  {
   "cell_type": "code",
   "execution_count": null,
   "id": "e4c12a03",
   "metadata": {},
   "outputs": [],
   "source": []
  }
 ],
 "metadata": {
  "kernelspec": {
   "display_name": "Python 3",
   "language": "python",
   "name": "python3"
  },
  "language_info": {
   "codemirror_mode": {
    "name": "ipython",
    "version": 3
   },
   "file_extension": ".py",
   "mimetype": "text/x-python",
   "name": "python",
   "nbconvert_exporter": "python",
   "pygments_lexer": "ipython3",
   "version": "3.6.4"
  }
 },
 "nbformat": 4,
 "nbformat_minor": 5
}
