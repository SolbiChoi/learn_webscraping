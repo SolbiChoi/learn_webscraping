{
 "cells": [
  {
   "cell_type": "code",
   "execution_count": 1,
   "id": "4a4ab60c",
   "metadata": {},
   "outputs": [],
   "source": [
    "from selenium import webdriver"
   ]
  },
  {
   "cell_type": "code",
   "execution_count": 4,
   "id": "e42bead7",
   "metadata": {},
   "outputs": [],
   "source": [
    "browser = webdriver.Chrome('./chromedriver.exe')"
   ]
  },
  {
   "cell_type": "code",
   "execution_count": 5,
   "id": "be880c4c",
   "metadata": {},
   "outputs": [],
   "source": [
    "browser.get('https://github.com/login')"
   ]
  },
  {
   "cell_type": "markdown",
   "id": "a9674a4a",
   "metadata": {},
   "source": [
    "ID : input#login_field\n",
    "PWD : input#password\n",
    "button : input[type=\"submit\"]"
   ]
  },
  {
   "cell_type": "code",
   "execution_count": null,
   "id": "58e0d516",
   "metadata": {},
   "outputs": [],
   "source": [
    "import time\n",
    "time.sleep(3)\n",
    "# ID\n",
    "browser.find_elements_by_css_selector('input#login_field').send_keys('csb1422@naver.com')\n",
    "# Password\n",
    "browser.find_elements_by_css_selector('input#login_field').send_keys('')\n",
    "#submit\n",
    "browser.find_elements_by_css_selector('input#login_field').send_keys('')"
   ]
  }
 ],
 "metadata": {
  "kernelspec": {
   "display_name": "Python 3",
   "language": "python",
   "name": "python3"
  },
  "language_info": {
   "codemirror_mode": {
    "name": "ipython",
    "version": 3
   },
   "file_extension": ".py",
   "mimetype": "text/x-python",
   "name": "python",
   "nbconvert_exporter": "python",
   "pygments_lexer": "ipython3",
   "version": "3.6.4"
  }
 },
 "nbformat": 4,
 "nbformat_minor": 5
}
